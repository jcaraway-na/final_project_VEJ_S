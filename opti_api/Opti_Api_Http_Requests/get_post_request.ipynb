{
 "cells": [
  {
   "cell_type": "code",
   "execution_count": 17,
   "metadata": {},
   "outputs": [],
   "source": [
    "import requests as request\n",
    "import pandas as pd"
   ]
  },
  {
   "cell_type": "markdown",
   "metadata": {},
   "source": [
    "---\n",
    "\n",
    "# RESTful API End-Points"
   ]
  },
  {
   "cell_type": "code",
   "execution_count": 18,
   "metadata": {},
   "outputs": [],
   "source": [
    "# api-base-url\n",
    "base_url = \"https://vizion-zero-api.azurewebsites.net/\"\n",
    "\n",
    "# get request end-point\n",
    "get_uri = \"Crash/get-all-crash_data\"\n",
    "\n",
    "# get request by id end-point\n",
    "get_by_id_uri = \"Crash/get-crash-by-id\"\n",
    "\n",
    "# post request end-point\n",
    "post_uri = \"Crash/add-crash\"\n",
    "\n",
    "# put request by id end-point\n",
    "put_uri = \"Crash/update-crash-by-id\"\n"
   ]
  },
  {
   "cell_type": "markdown",
   "metadata": {},
   "source": [
    "---\n",
    "\n",
    "# HTTP Get all Request"
   ]
  },
  {
   "cell_type": "code",
   "execution_count": 19,
   "metadata": {},
   "outputs": [],
   "source": [
    "def get_request():\n",
    "    # sending get request and saving the response as response object\n",
    "    r = request.get(url = f'{base_url}{get_uri}')\n",
    "    \n",
    "    # extracting data in json format\n",
    "    response = r.json()\n",
    "\n",
    "    return response"
   ]
  },
  {
   "cell_type": "markdown",
   "metadata": {},
   "source": [
    "---\n",
    "\n",
    "# HTTP Get crash by id Request"
   ]
  },
  {
   "cell_type": "code",
   "execution_count": 20,
   "metadata": {},
   "outputs": [],
   "source": [
    "def get_crash_by_id(id):\n",
    "    # sending get request and saving the response as response object\n",
    "    r = request.get(url = f'{base_url}{get_by_id_uri}/{id}')\n",
    "\n",
    "    if r == 200:\n",
    "        # extracting data in json formatQ\n",
    "        response = r.json()\n",
    "    else:\n",
    "        response = r.status_code\n",
    "    \n",
    "    return response"
   ]
  },
  {
   "cell_type": "markdown",
   "metadata": {},
   "source": [
    "---\n",
    "\n",
    "# HTTP Post Crash Request"
   ]
  },
  {
   "cell_type": "code",
   "execution_count": 21,
   "metadata": {},
   "outputs": [],
   "source": [
    "def post_request(payload):\n",
    "    # sending post request and saving the response as response object\n",
    "    r = request.post(url = f'{base_url}{post_uri}', json= payload)\n",
    "\n",
    "    # extracting response text \n",
    "    responce = r.text\n",
    "    return responce"
   ]
  },
  {
   "cell_type": "markdown",
   "metadata": {},
   "source": [
    "---\n",
    "\n",
    "# HTTP PUT Crash by Id Request"
   ]
  },
  {
   "cell_type": "code",
   "execution_count": 22,
   "metadata": {},
   "outputs": [],
   "source": [
    "def put_request(id,payload):\n",
    "    # sending post request and saving the response as response object\n",
    "    r = request.post(url = f'{base_url}{put_uri}/{id}', json= payload)\n",
    "\n",
    "\n",
    "\n",
    "    # extracting response text \n",
    "    responce = r.text\n",
    "    return responce"
   ]
  },
  {
   "cell_type": "code",
   "execution_count": 31,
   "metadata": {},
   "outputs": [
    {
     "name": "stdout",
     "output_type": "stream",
     "text": [
      "{'id': 7, 'crash_id': 0, 'crash_fatal_fl': 7, 'crash_date': 'string', 'crash_time': 'string', 'crash_speed_limt': 0, 'road_constr_zone_fl': 0, 'latitude': 0, 'longitude': 0, 'crash_sev_id': 0, 'sus_serious_injry_cnt': 0, 'nonincap_injry_cnt': 0, 'poss_injry_cnt': 0, 'non_injry_cnt': 0, 'unkn_injry_cnt': 0, 'tot_injry_cnt': 0, 'death_cnt': 0, 'pedestrian_fl': 0, 'motor_vehicle_fl': 0, 'motorcycle_fl': 0, 'bicycle_fl': 0, 'other_fl': 0, 'point': 0, 'apd_confirmed_death_count': 0, 'motor_vehicle_death_count': 0, 'motor_vehicle_serious_injury_count': 0, 'bicycle_serious_injury_count': 0, 'pedestrian_death_count': 0, 'pedestrian_serious_injury_count': 0, 'motorcycle_death_count': 0, 'motorcycle_serious_injury_count': 0, 'other_death_count': 0, 'other_serious_injury_count': 0}\n",
      "None\n"
     ]
    }
   ],
   "source": [
    "print(get_crash_by_id(0))"
   ]
  },
  {
   "cell_type": "code",
   "execution_count": 23,
   "metadata": {},
   "outputs": [],
   "source": [
    "payload = {'crash_id': 1,'crash_fatal_fl': 20, 'crash_date': 'string', 'crash_time': 'string', 'crash_speed_limt': 0, 'road_constr_zone_fl': 0, 'latitude': 0, 'longitude': 0,\n",
    "    'crash_sev_id': 0, 'sus_serious_injry_cnt': 0, 'nonincap_injry_cnt': 0, 'poss_injry_cnt': 0, 'non_injry_cnt': 0, 'unkn_injry_cnt': 0, 'tot_injry_cnt': 0, 'death_cnt': 0,\n",
    "    'pedestrian_fl': 0, 'motor_vehicle_fl': 0, 'motorcycle_fl': 0, 'bicycle_fl': 0, 'other_fl': 0, 'point': 0, 'apd_confirmed_death_count': 0, 'motor_vehicle_death_count': 0,\n",
    "    'motor_vehicle_serious_injury_count': 0, 'bicycle_serious_injury_count': 0, 'pedestrian_death_count': 0, 'pedestrian_serious_injury_count': 0, 'motorcycle_death_count': 0,\n",
    "    'motorcycle_serious_injury_count': 0, 'other_death_count': 0, 'other_serious_injury_count': 0}\n"
   ]
  },
  {
   "cell_type": "code",
   "execution_count": 24,
   "metadata": {},
   "outputs": [
    {
     "name": "stdout",
     "output_type": "stream",
     "text": [
      "{'id': 7, 'crash_id': 0, 'crash_fatal_fl': 7, 'crash_date': 'string', 'crash_time': 'string', 'crash_speed_limt': 0, 'road_constr_zone_fl': 0, 'latitude': 0, 'longitude': 0, 'crash_sev_id': 0, 'sus_serious_injry_cnt': 0, 'nonincap_injry_cnt': 0, 'poss_injry_cnt': 0, 'non_injry_cnt': 0, 'unkn_injry_cnt': 0, 'tot_injry_cnt': 0, 'death_cnt': 0, 'pedestrian_fl': 0, 'motor_vehicle_fl': 0, 'motorcycle_fl': 0, 'bicycle_fl': 0, 'other_fl': 0, 'point': 0, 'apd_confirmed_death_count': 0, 'motor_vehicle_death_count': 0, 'motor_vehicle_serious_injury_count': 0, 'bicycle_serious_injury_count': 0, 'pedestrian_death_count': 0, 'pedestrian_serious_injury_count': 0, 'motorcycle_death_count': 0, 'motorcycle_serious_injury_count': 0, 'other_death_count': 0, 'other_serious_injury_count': 0}\n"
     ]
    },
    {
     "ename": "AttributeError",
     "evalue": "'NoneType' object has no attribute 'status_code'",
     "output_type": "error",
     "traceback": [
      "\u001b[1;31m---------------------------------------------------------------------------\u001b[0m",
      "\u001b[1;31mAttributeError\u001b[0m                            Traceback (most recent call last)",
      "\u001b[1;32mc:\\Users\\Jennings\\Documents\\GitHub\\final_project_VEJ_S\\opti_api\\Opti_Api_Http_Requests\\get_post_request.ipynb Cell 13\u001b[0m in \u001b[0;36m<cell line: 1>\u001b[1;34m()\u001b[0m\n\u001b[1;32m----> <a href='vscode-notebook-cell:/c%3A/Users/Jennings/Documents/GitHub/final_project_VEJ_S/opti_api/Opti_Api_Http_Requests/get_post_request.ipynb#X15sZmlsZQ%3D%3D?line=0'>1</a>\u001b[0m \u001b[39mprint\u001b[39m(get_crash_by_id(\u001b[39m0\u001b[39;49m)\u001b[39m.\u001b[39;49mstatus_code)\n",
      "\u001b[1;31mAttributeError\u001b[0m: 'NoneType' object has no attribute 'status_code'"
     ]
    }
   ],
   "source": [
    "print(get_crash_by_id(0).status_code)"
   ]
  },
  {
   "cell_type": "code",
   "execution_count": null,
   "metadata": {},
   "outputs": [],
   "source": []
  }
 ],
 "metadata": {
  "kernelspec": {
   "display_name": "Python 3.9.12 ('base')",
   "language": "python",
   "name": "python3"
  },
  "language_info": {
   "codemirror_mode": {
    "name": "ipython",
    "version": 3
   },
   "file_extension": ".py",
   "mimetype": "text/x-python",
   "name": "python",
   "nbconvert_exporter": "python",
   "pygments_lexer": "ipython3",
   "version": "3.9.12"
  },
  "orig_nbformat": 4,
  "vscode": {
   "interpreter": {
    "hash": "9e6990b27d416aeda36a486f013e085ec6317893b4b6a71b5d4d56e065684639"
   }
  }
 },
 "nbformat": 4,
 "nbformat_minor": 2
}
