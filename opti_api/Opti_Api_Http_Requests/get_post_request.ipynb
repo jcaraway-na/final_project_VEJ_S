{
 "cells": [
  {
   "cell_type": "code",
   "execution_count": 26,
   "metadata": {},
   "outputs": [],
   "source": [
    "import requests as request\n",
    "import pandas as pd"
   ]
  },
  {
   "cell_type": "markdown",
   "metadata": {},
   "source": [
    "---\n",
    "\n",
    "# RESTful API End-Points"
   ]
  },
  {
   "cell_type": "code",
   "execution_count": 27,
   "metadata": {},
   "outputs": [],
   "source": [
    "# api-base-url\n",
    "base_url = \"https://vizion-zero-api.azurewebsites.net/\"\n",
    "\n",
    "# get request end-point\n",
    "get_uri = \"Crash/get-all-crash_data\"\n",
    "\n",
    "# get request by id end-point\n",
    "get_by_id_uri = \"Crash/get-crash-by-id\"\n",
    "\n",
    "# post request end-point\n",
    "post_uri = \"Crash/add-crash\"\n",
    "\n",
    "# put request by id end-point\n",
    "put_uri = \"Crash/update-crash-by-id\"\n"
   ]
  },
  {
   "cell_type": "markdown",
   "metadata": {},
   "source": [
    "---\n",
    "\n",
    "# HTTP Get all Request"
   ]
  },
  {
   "cell_type": "code",
   "execution_count": 28,
   "metadata": {},
   "outputs": [],
   "source": [
    "def get_request():\n",
    "    # sending get request and saving the response as response object\n",
    "    r = request.get(url = f'{base_url}{get_uri}')\n",
    "    \n",
    "    # extracting data in json format\n",
    "    data = r.json()\n",
    "\n",
    "    print(data)"
   ]
  },
  {
   "cell_type": "markdown",
   "metadata": {},
   "source": [
    "---\n",
    "\n",
    "# HTTP Get crash by id Request"
   ]
  },
  {
   "cell_type": "code",
   "execution_count": 29,
   "metadata": {},
   "outputs": [],
   "source": [
    "def get_crash_by_id(id):\n",
    "    # sending get request and saving the response as response object\n",
    "    r = request.get(url = f'{base_url}{get_by_id_uri}/{id}')\n",
    "    \n",
    "    # extracting data in json format\n",
    "    data = r.json()\n",
    "\n",
    "    print(data)"
   ]
  },
  {
   "cell_type": "markdown",
   "metadata": {},
   "source": [
    "---\n",
    "\n",
    "# HTTP Post Crash Request"
   ]
  },
  {
   "cell_type": "code",
   "execution_count": 30,
   "metadata": {},
   "outputs": [],
   "source": [
    "def post_request(payload):\n",
    "    # sending post request and saving the response as response object\n",
    "    r = request.post(url = f'{base_url}{post_uri}', json= payload)\n",
    "\n",
    "    # extracting response text \n",
    "    responce = r.text\n",
    "    return responce"
   ]
  },
  {
   "cell_type": "markdown",
   "metadata": {},
   "source": [
    "---\n",
    "\n",
    "# HTTP PUT Crash by Id Request"
   ]
  },
  {
   "cell_type": "code",
   "execution_count": 31,
   "metadata": {},
   "outputs": [],
   "source": [
    "def put_request(id,payload):\n",
    "    # sending post request and saving the response as response object\n",
    "    r = request.post(url = f'{base_url}{put_uri}/{id}', json= payload)\n",
    "\n",
    "    # extracting response text \n",
    "    responce = r.text\n",
    "    return responce"
   ]
  },
  {
   "cell_type": "code",
   "execution_count": 32,
   "metadata": {},
   "outputs": [
    {
     "data": {
      "text/plain": [
       "''"
      ]
     },
     "execution_count": 32,
     "metadata": {},
     "output_type": "execute_result"
    }
   ],
   "source": [
    "payload = {'crash_id': 1,'crash_fatal_fl': 20, 'crash_date': 'string', 'crash_time': 'string', 'crash_speed_limt': 0, 'road_constr_zone_fl': 0, 'latitude': 0, 'longitude': 0,\n",
    "    'crash_sev_id': 0, 'sus_serious_injry_cnt': 0, 'nonincap_injry_cnt': 0, 'poss_injry_cnt': 0, 'non_injry_cnt': 0, 'unkn_injry_cnt': 0, 'tot_injry_cnt': 0, 'death_cnt': 0,\n",
    "    'pedestrian_fl': 0, 'motor_vehicle_fl': 0, 'motorcycle_fl': 0, 'bicycle_fl': 0, 'other_fl': 0, 'point': 0, 'apd_confirmed_death_count': 0, 'motor_vehicle_death_count': 0,\n",
    "    'motor_vehicle_serious_injury_count': 0, 'bicycle_serious_injury_count': 0, 'pedestrian_death_count': 0, 'pedestrian_serious_injury_count': 0, 'motorcycle_death_count': 0,\n",
    "    'motorcycle_serious_injury_count': 0, 'other_death_count': 0, 'other_serious_injury_count': 0}\n"
   ]
  },
  {
   "cell_type": "code",
   "execution_count": 33,
   "metadata": {},
   "outputs": [
    {
     "name": "stdout",
     "output_type": "stream",
     "text": [
      "{'id': 4, 'crash_id': 4, 'crash_fatal_fl': 7, 'crash_date': 'string', 'crash_time': 'string', 'crash_speed_limt': 0, 'road_constr_zone_fl': 0, 'latitude': 0, 'longitude': 0, 'crash_sev_id': 0, 'sus_serious_injry_cnt': 0, 'nonincap_injry_cnt': 0, 'poss_injry_cnt': 0, 'non_injry_cnt': 0, 'unkn_injry_cnt': 0, 'tot_injry_cnt': 0, 'death_cnt': 0, 'pedestrian_fl': 0, 'motor_vehicle_fl': 0, 'motorcycle_fl': 0, 'bicycle_fl': 0, 'other_fl': 0, 'point': 0, 'apd_confirmed_death_count': 0, 'motor_vehicle_death_count': 0, 'motor_vehicle_serious_injury_count': 0, 'bicycle_serious_injury_count': 0, 'pedestrian_death_count': 0, 'pedestrian_serious_injury_count': 0, 'motorcycle_death_count': 0, 'motorcycle_serious_injury_count': 0, 'other_death_count': 0, 'other_serious_injury_count': 0}\n",
      "None\n"
     ]
    }
   ],
   "source": [
    "print(get_crash_by_id('4'))"
   ]
  },
  {
   "cell_type": "code",
   "execution_count": null,
   "metadata": {},
   "outputs": [],
   "source": []
  }
 ],
 "metadata": {
  "kernelspec": {
   "display_name": "Python 3.9.12 ('base')",
   "language": "python",
   "name": "python3"
  },
  "language_info": {
   "codemirror_mode": {
    "name": "ipython",
    "version": 3
   },
   "file_extension": ".py",
   "mimetype": "text/x-python",
   "name": "python",
   "nbconvert_exporter": "python",
   "pygments_lexer": "ipython3",
   "version": "3.9.12"
  },
  "orig_nbformat": 4,
  "vscode": {
   "interpreter": {
    "hash": "9e6990b27d416aeda36a486f013e085ec6317893b4b6a71b5d4d56e065684639"
   }
  }
 },
 "nbformat": 4,
 "nbformat_minor": 2
}
